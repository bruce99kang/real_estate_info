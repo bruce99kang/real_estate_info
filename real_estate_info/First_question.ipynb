{
 "cells": [
  {
   "cell_type": "code",
   "execution_count": 73,
   "metadata": {},
   "outputs": [],
   "source": [
    "import pandas as pd"
   ]
  },
  {
   "cell_type": "markdown",
   "metadata": {},
   "source": [
    "從原始檔可以看出第一個row是column的英文，為無效資料，故先行刪除，以利後續分析"
   ]
  },
  {
   "cell_type": "code",
   "execution_count": 74,
   "metadata": {},
   "outputs": [],
   "source": [
    "path = 'C:\\\\Users\\\\bruce\\\\Desktop\\\\project\\\\real_estate_info\\\\'\n",
    "df_a = pd.read_csv(path+'a_lvr_land_a.csv').drop([0])\n",
    "df_b = pd.read_csv(path+'b_lvr_land_a.csv').drop([0])\n",
    "df_e = pd.read_csv(path+'e_lvr_land_a.csv').drop([0])\n",
    "df_f = pd.read_csv(path+'f_lvr_land_a.csv').drop([0])\n",
    "df_h = pd.read_csv(path+'h_lvr_land_a.csv').drop([0])\n"
   ]
  },
  {
   "cell_type": "code",
   "execution_count": 75,
   "metadata": {},
   "outputs": [],
   "source": [
    "total = [df_a, df_b, df_e, df_f, df_h]\n",
    "df_all = pd.concat(total).reset_index(drop=True)"
   ]
  },
  {
   "cell_type": "markdown",
   "metadata": {},
   "source": [
    "**filter_a**"
   ]
  },
  {
   "cell_type": "code",
   "execution_count": 76,
   "metadata": {},
   "outputs": [],
   "source": [
    "filter_a_1 = (df_all['主要用途']=='住家用')\n",
    "tmp = df_all.loc[filter_a_1]"
   ]
  },
  {
   "cell_type": "code",
   "execution_count": 77,
   "metadata": {},
   "outputs": [],
   "source": [
    "tmp = tmp.loc[tmp['建物型態'].str.contains('住宅大樓', na=False)]"
   ]
  },
  {
   "cell_type": "markdown",
   "metadata": {},
   "source": [
    "因為總樓層數是以中文數字表示，因次必須將其轉換為阿拉伯數字，並去除'層'這個無用字眼"
   ]
  },
  {
   "cell_type": "code",
   "execution_count": 78,
   "metadata": {},
   "outputs": [],
   "source": [
    "def convert_floor(chinese):\n",
    "    numbers = {'一':1, '二':2, '三':3, '四':4, '五':5, '六':6, '七':7, '八':8, '九':9}\n",
    "    units = {'十':10}\n",
    "    number, pureNumber = 0, True\n",
    "    for i in range(len(chinese)):\n",
    "        if chinese[i] in units:\n",
    "            pureNumber = False\n",
    "            break\n",
    "        if chinese[i] in numbers:\n",
    "            number = number * 10 + numbers[chinese[i]]\n",
    "    if pureNumber:\n",
    "        return number\n",
    "        \n",
    "    number = 0\n",
    "    for i in range(len(chinese)):\n",
    "        base = 10\n",
    "        if chinese[i] in numbers and len(chinese)==3:\n",
    "            number = numbers[chinese[i]]*base + numbers[chinese[i+2]]\n",
    "            break\n",
    "        elif chinese[i] == '十':\n",
    "            number = base + numbers[chinese[i+1]]\n",
    "            break\n",
    "        elif chinese[i+1] == '十' and len(chinese)==2:\n",
    "            number = numbers[chinese[i]]*base\n",
    "            break\n",
    "    return number"
   ]
  },
  {
   "cell_type": "code",
   "execution_count": 79,
   "metadata": {},
   "outputs": [],
   "source": [
    "tmp['總樓層數'] = tmp['總樓層數'].str.replace('層','')\n",
    "tmp['總樓層數'] = tmp['總樓層數'].apply(convert_floor)"
   ]
  },
  {
   "cell_type": "code",
   "execution_count": 80,
   "metadata": {},
   "outputs": [],
   "source": [
    "filter_a = tmp.loc[tmp['總樓層數']>=13]"
   ]
  },
  {
   "cell_type": "code",
   "execution_count": 89,
   "metadata": {},
   "outputs": [],
   "source": [
    "filter_a.reset_index(drop=True)\n",
    "filter_a.to_csv('filter_a.csv')"
   ]
  },
  {
   "cell_type": "markdown",
   "metadata": {},
   "source": [
    "**filter_b**"
   ]
  },
  {
   "cell_type": "code",
   "execution_count": 82,
   "metadata": {},
   "outputs": [
    {
     "name": "stdout",
     "output_type": "stream",
     "text": [
      "8864\n"
     ]
    }
   ],
   "source": [
    "total_count = len(df_all)\n",
    "print(total_count)"
   ]
  },
  {
   "cell_type": "code",
   "execution_count": 83,
   "metadata": {},
   "outputs": [
    {
     "name": "stdout",
     "output_type": "stream",
     "text": [
      "4616\n"
     ]
    }
   ],
   "source": [
    "total_spot_count = 0\n",
    "for i in range(len(df_all)):\n",
    "    num = int(df_all['交易筆棟數'].loc[i][-1])\n",
    "    total_spot_count += num\n",
    "print(total_spot_count)"
   ]
  },
  {
   "cell_type": "code",
   "execution_count": 84,
   "metadata": {},
   "outputs": [
    {
     "name": "stdout",
     "output_type": "stream",
     "text": [
      "15184413.837770758\n"
     ]
    }
   ],
   "source": [
    "average_price = df_all['總價元'].astype(int).mean()\n",
    "print(average_price)\n"
   ]
  },
  {
   "cell_type": "code",
   "execution_count": 85,
   "metadata": {},
   "outputs": [
    {
     "name": "stdout",
     "output_type": "stream",
     "text": [
      "1031953.4228769498\n"
     ]
    }
   ],
   "source": [
    "num = 0\n",
    "for i in range(len(df_all)):\n",
    "    if df_all['交易筆棟數'].loc[i][-1] != '0':\n",
    "        #print(df_all['車位總價元'].loc[i])\n",
    "        num += int(df_all['車位總價元'].loc[i])\n",
    "average_spot_price = num/total_spot_count\n",
    "print(average_spot_price)"
   ]
  },
  {
   "cell_type": "code",
   "execution_count": 86,
   "metadata": {},
   "outputs": [],
   "source": [
    "d = {'總件數':[total_count],'總車位數':[total_spot_count],\\\n",
    "    '平均總價元':[average_price], '平均車位總價元':[average_spot_price]}\n",
    "filter_b = pd.DataFrame(data=d,index=['答案'])"
   ]
  },
  {
   "cell_type": "code",
   "execution_count": 90,
   "metadata": {},
   "outputs": [],
   "source": [
    "filter_b.to_csv('filter_b.csv')"
   ]
  }
 ],
 "metadata": {
  "interpreter": {
   "hash": "5e03f652cddf3d201f6151e164f830e58d3b9e00e95dc5c586a0f1c3232eb138"
  },
  "kernelspec": {
   "display_name": "Python 3.8.13 ('project')",
   "language": "python",
   "name": "python3"
  },
  "language_info": {
   "codemirror_mode": {
    "name": "ipython",
    "version": 3
   },
   "file_extension": ".py",
   "mimetype": "text/x-python",
   "name": "python",
   "nbconvert_exporter": "python",
   "pygments_lexer": "ipython3",
   "version": "3.8.13"
  },
  "orig_nbformat": 4
 },
 "nbformat": 4,
 "nbformat_minor": 2
}
